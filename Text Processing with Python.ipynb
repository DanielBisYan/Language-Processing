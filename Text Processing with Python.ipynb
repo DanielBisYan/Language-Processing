{
 "cells": [
  {
   "cell_type": "markdown",
   "metadata": {},
   "source": [
    "# The program finds sentences with a keyword from a provided database"
   ]
  },
  {
   "cell_type": "markdown",
   "metadata": {},
   "source": [
    "### First, let's import a method and open our database file. The database needs to be saved as a .txt file. Here the file name is \"test.txt\" if you wish to change the file name below:"
   ]
  },
  {
   "cell_type": "markdown",
   "metadata": {},
   "source": [
    "### First let's import libraries"
   ]
  },
  {
   "cell_type": "code",
   "execution_count": 176,
   "metadata": {},
   "outputs": [],
   "source": [
    "import pandas as pd"
   ]
  },
  {
   "cell_type": "markdown",
   "metadata": {},
   "source": [
    "### Now, let's clean our database. In a place of 2 in \"2.txt\" you can type the name of your database"
   ]
  },
  {
   "cell_type": "code",
   "execution_count": 177,
   "metadata": {},
   "outputs": [],
   "source": [
    "from get_methods1 import get_new_sentences\n",
    "\n",
    "database_txt = open('2.txt',\"r\")\n",
    "database = database_txt.readlines()\n",
    "sentences = []\n",
    "for line in database:\n",
    "    #print(line)\n",
    "    #print(\" \")\n",
    "    sentences.append(line.split('.'))\n",
    "\n",
    "\n",
    "sentences = sentences[0]\n",
    "for sentence in sentences:\n",
    "    if \"?\" in sentence:\n",
    "        sentences.remove(sentence)\n",
    "for sentence in sentences:\n",
    "    if \"-\" in sentence:\n",
    "        sentences.remove(sentence)\n",
    "for sentence in sentences:\n",
    "    if \"„\" in sentence:\n",
    "        sentences.remove(sentence)\n",
    "for sentence in sentences:\n",
    "    if \";\" in sentence:\n",
    "        sentences.remove(sentence)\n",
    "for sentence in sentences:\n",
    "    if \":\" in sentence:\n",
    "        sentences.remove(sentence)\n",
    "for sentence in sentences:\n",
    "    if \"—\" in sentence:\n",
    "        sentences.remove(sentence)\n",
    "for sentence in sentences:\n",
    "    if \"(\" in sentence:\n",
    "        sentences.remove(sentence)\n",
    "for sentence in sentences:\n",
    "    if \")\" in sentence:\n",
    "        sentences.remove(sentence)\n",
    "for sentence in sentences:\n",
    "    if '\"' in sentence:\n",
    "        sentences.remove(sentence)\n",
    "for sentence in sentences:\n",
    " #   print(sentence)\n",
    "    if len(sentence) < 7:\n",
    "        sentences.remove(sentence)\n",
    "for sentence in sentences:\n",
    "    if len(sentence) > 10:\n",
    "        sentences.remove(sentence)\n",
    "for sentence in sentences:\n",
    "    words_list = sentence.split()\n",
    "    for word in words_list:\n",
    "        if word.isupper() == True and len(word) > 1:\n",
    "            sentences.remove(sentence)        "
   ]
  },
  {
   "cell_type": "markdown",
   "metadata": {},
   "source": [
    "### Let's load keywords"
   ]
  },
  {
   "cell_type": "code",
   "execution_count": 178,
   "metadata": {},
   "outputs": [
    {
     "data": {
      "text/plain": [
       "['akademia', 'akademik']"
      ]
     },
     "execution_count": 178,
     "metadata": {},
     "output_type": "execute_result"
    }
   ],
   "source": [
    "keywords_df = pd.read_excel('150 Polish words-0331.xlsx')\n",
    "keywords_df = keywords_df['words'].dropna()\n",
    "keywords_list = keywords_df.to_list()\n",
    "keywords_list[0:2]"
   ]
  },
  {
   "cell_type": "markdown",
   "metadata": {},
   "source": [
    "### Now, let's open used_sentences.txt again, to append new files"
   ]
  },
  {
   "cell_type": "code",
   "execution_count": 180,
   "metadata": {},
   "outputs": [],
   "source": [
    "used_sentences_database = open(\"used_sentences.txt\", \"a\")\n",
    "used_sentences_database.close()"
   ]
  },
  {
   "cell_type": "markdown",
   "metadata": {},
   "source": [
    "### Let's look for sentences with a keyword"
   ]
  },
  {
   "cell_type": "markdown",
   "metadata": {},
   "source": [
    "### First, need to define a new method"
   ]
  },
  {
   "cell_type": "code",
   "execution_count": 228,
   "metadata": {},
   "outputs": [],
   "source": [
    "def get_sentences(keyword, sentences):\n",
    "    \n",
    "    # open used_sentences database to check for used sentences\n",
    "    used_sentences_database = open(\"used_sentences.txt\",\"r\")\n",
    "    used_sentences_lines = used_sentences_database.readlines()\n",
    "    used_sentences_list = []\n",
    "    for line in used_sentences_lines:\n",
    "        used_sentences_list.append(line.split('.'))\n",
    "    used_sentences_list = used_sentences_list[0]\n",
    "    used_sentences_database.close()\n",
    "    \n",
    "    # define new_sentences list\n",
    "    new_sentences = []\n",
    "    \n",
    "    # open used_sentences database\n",
    "    used_sentences_database = open(\"used_sentences.txt\", \"a\")\n",
    "    \n",
    "    for sentence in sentences:\n",
    "        #check if a keyword is in a sentence\n",
    "        if keyword in sentence.lower() and len(new_sentences) < 10:\n",
    "            # check if a sentence was not used before\n",
    "            if sentence not in used_sentences_list:\n",
    "                # append a sentence to new_sentences list\n",
    "                new_sentences.append(sentence + '.')\n",
    "                \n",
    "                # write a new sentence to used_sentences database\n",
    "                used_sentences_database.write(sentence + '.')\n",
    "                \n",
    "                # write a new sentence to used_sentence\n",
    "                used_sentences_list.append(sentence)\n",
    "    \n",
    "    \n",
    "    used_sentences_database.close()\n",
    "    \n",
    "    # create pandas dataframe out of new_sentences list\n",
    "    return new_sentences\n",
    "       "
   ]
  },
  {
   "cell_type": "markdown",
   "metadata": {},
   "source": [
    "### Now, let's use the method for our keywords and get an excel file with our sentences, the sentences will also print below"
   ]
  },
  {
   "cell_type": "code",
   "execution_count": 229,
   "metadata": {},
   "outputs": [],
   "source": [
    "# loop through keywords and apply our function\n",
    "sentences_list = []\n",
    "for keyword in keywords_list:\n",
    "    sentences_list.append(keyword.upper())\n",
    "    sentences_list += get_sentences(keyword, sentences)\n",
    "\n",
    "# append sentences to Pandas dataframe\n",
    "sentences_dict = {'sentences':sentences_list}  \n",
    "df = pd.DataFrame(sentences_dict)\n",
    "df.to_excel(f\"{keywords_list[0]+'_to_'+keywords_list[-1]}.xlsx\")"
   ]
  },
  {
   "cell_type": "code",
   "execution_count": null,
   "metadata": {},
   "outputs": [],
   "source": []
  }
 ],
 "metadata": {
  "kernelspec": {
   "display_name": "Python 3",
   "language": "python",
   "name": "python3"
  },
  "language_info": {
   "codemirror_mode": {
    "name": "ipython",
    "version": 3
   },
   "file_extension": ".py",
   "mimetype": "text/x-python",
   "name": "python",
   "nbconvert_exporter": "python",
   "pygments_lexer": "ipython3",
   "version": "3.7.6"
  }
 },
 "nbformat": 4,
 "nbformat_minor": 4
}
